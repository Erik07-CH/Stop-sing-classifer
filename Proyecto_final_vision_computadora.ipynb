{
  "nbformat": 4,
  "nbformat_minor": 0,
  "metadata": {
    "colab": {
      "provenance": [],
      "gpuType": "T4"
    },
    "kernelspec": {
      "name": "python3",
      "display_name": "Python 3"
    },
    "language_info": {
      "name": "python"
    },
    "accelerator": "GPU"
  },
  "cells": [
    {
      "cell_type": "code",
      "execution_count": 1,
      "metadata": {
        "id": "Lbr6FlAHgH7f"
      },
      "outputs": [],
      "source": [
        "import numpy as np\n",
        "import matplotlib.pyplot as plt\n",
        "import tensorflow as tf\n",
        "from tensorflow import keras\n",
        "from tensorflow.keras import layers, models\n",
        "import os\n",
        "from zipfile import ZipFile\n",
        "from tensorflow.keras.preprocessing.image import ImageDataGenerator\n"
      ]
    },
    {
      "cell_type": "code",
      "source": [
        "# Descomprimir el conjunto de datos de \"Stop\"\n",
        "with ZipFile('/content/stop.zip', 'r') as zip_ref:\n",
        "    zip_ref.extractall('/content/data/Stop')\n",
        "\n",
        "# Descomprimir el conjunto de datos de \"No Stop\"\n",
        "with ZipFile('/content/not_stop.zip', 'r') as zip_ref:\n",
        "    zip_ref.extractall('/content/data/NoStop')\n"
      ],
      "metadata": {
        "id": "bAdWPaMwjNdj"
      },
      "execution_count": 9,
      "outputs": []
    },
    {
      "cell_type": "code",
      "source": [
        "import shutil\n",
        "import random\n",
        "\n",
        "# Crear directorios para entrenamiento y validación\n",
        "base_dir = '/content/data'\n",
        "train_dir = os.path.join(base_dir, 'train')\n",
        "val_dir = os.path.join(base_dir, 'val')\n",
        "\n",
        "os.makedirs(train_dir, exist_ok=True)\n",
        "os.makedirs(val_dir, exist_ok=True)\n",
        "\n",
        "classes = ['Stop', 'NoStop']\n",
        "\n",
        "for cls in classes:\n",
        "    os.makedirs(os.path.join(train_dir, cls), exist_ok=True)\n",
        "    os.makedirs(os.path.join(val_dir, cls), exist_ok=True)\n",
        "\n",
        "    src_dir = os.path.join(base_dir, cls)\n",
        "    all_files = os.listdir(src_dir)\n",
        "    random.shuffle(all_files)\n",
        "\n",
        "    split_idx = int(len(all_files) * 0.8)\n",
        "    train_files = all_files[:split_idx]\n",
        "    val_files = all_files[split_idx:]\n",
        "\n",
        "    for fname in train_files:\n",
        "        src = os.path.join(src_dir, fname)\n",
        "        dst = os.path.join(train_dir, cls, fname)\n",
        "        shutil.move(src, dst)\n",
        "\n",
        "    for fname in val_files:\n",
        "        src = os.path.join(src_dir, fname)\n",
        "        dst = os.path.join(val_dir, cls, fname)\n",
        "        shutil.move(src, dst)\n"
      ],
      "metadata": {
        "id": "qw4KsgBojaD0"
      },
      "execution_count": 10,
      "outputs": []
    },
    {
      "cell_type": "code",
      "source": [
        "# Generador para datos de entrenamiento con aumento\n",
        "train_datagen = ImageDataGenerator(\n",
        "    rescale=1./255,\n",
        "    rotation_range=15,\n",
        "    zoom_range=0.1,\n",
        "    horizontal_flip=True,\n",
        "    vertical_flip=False\n",
        ")\n",
        "\n",
        "# Generador para datos de validación sin aumento\n",
        "val_datagen = ImageDataGenerator(rescale=1./255)\n",
        "\n",
        "# Generadores\n",
        "train_generator = train_datagen.flow_from_directory(\n",
        "    train_dir,\n",
        "    target_size=(64, 64),  # Puedes ajustar el tamaño según sea necesario\n",
        "    batch_size=32,\n",
        "    class_mode='binary'\n",
        ")\n",
        "\n",
        "val_generator = val_datagen.flow_from_directory(\n",
        "    val_dir,\n",
        "    target_size=(64, 64),\n",
        "    batch_size=32,\n",
        "    class_mode='binary'\n",
        ")\n"
      ],
      "metadata": {
        "colab": {
          "base_uri": "https://localhost:8080/"
        },
        "id": "BOO-hcmOjgAM",
        "outputId": "bae42c76-ffca-4ebd-c332-a9e480e869c9"
      },
      "execution_count": 11,
      "outputs": [
        {
          "output_type": "stream",
          "name": "stdout",
          "text": [
            "Found 296 images belonging to 4 classes.\n",
            "Found 237 images belonging to 4 classes.\n"
          ]
        }
      ]
    },
    {
      "cell_type": "code",
      "source": [
        "##Construimos el modelo\n",
        "\n",
        "model = models.Sequential([\n",
        "    layers.Conv2D(32, (3, 3), activation='relu', input_shape=(64, 64, 3)),\n",
        "    layers.MaxPooling2D(2, 2),\n",
        "\n",
        "    layers.Conv2D(64, (3, 3), activation='relu'),\n",
        "    layers.MaxPooling2D(2, 2),\n",
        "\n",
        "    layers.Conv2D(128, (3, 3), activation='relu'),\n",
        "    layers.MaxPooling2D(2, 2),\n",
        "\n",
        "    layers.Flatten(),\n",
        "    layers.Dense(128, activation='relu'),\n",
        "    layers.Dropout(0.5),\n",
        "    layers.Dense(1, activation='sigmoid')  # Para clasificación binaria\n",
        "])\n"
      ],
      "metadata": {
        "colab": {
          "base_uri": "https://localhost:8080/"
        },
        "id": "ROn40iCwjkya",
        "outputId": "b03c868d-7dc2-46bd-aa31-cbfc923fbbbb"
      },
      "execution_count": 12,
      "outputs": [
        {
          "output_type": "stream",
          "name": "stderr",
          "text": [
            "/usr/local/lib/python3.10/dist-packages/keras/src/layers/convolutional/base_conv.py:107: UserWarning: Do not pass an `input_shape`/`input_dim` argument to a layer. When using Sequential models, prefer using an `Input(shape)` object as the first layer in the model instead.\n",
            "  super().__init__(activity_regularizer=activity_regularizer, **kwargs)\n"
          ]
        }
      ]
    },
    {
      "cell_type": "code",
      "source": [
        "model.compile(\n",
        "    loss='binary_crossentropy',\n",
        "    optimizer=keras.optimizers.Adam(learning_rate=0.0001),\n",
        "    metrics=['accuracy']\n",
        ")\n"
      ],
      "metadata": {
        "id": "QU1NtboUjw1Q"
      },
      "execution_count": 13,
      "outputs": []
    },
    {
      "cell_type": "code",
      "source": [
        "### Paso 7\n",
        "\n",
        "history = model.fit(\n",
        "    train_generator,\n",
        "    steps_per_epoch=train_generator.samples // train_generator.batch_size,\n",
        "    epochs=10,\n",
        "    validation_data=val_generator,\n",
        "    validation_steps=val_generator.samples // val_generator.batch_size\n",
        ")\n"
      ],
      "metadata": {
        "colab": {
          "base_uri": "https://localhost:8080/",
          "height": 356
        },
        "id": "vi_afQs9j2LA",
        "outputId": "798cd4de-f03d-4e29-c084-454d981be963"
      },
      "execution_count": 20,
      "outputs": [
        {
          "output_type": "error",
          "ename": "UnidentifiedImageError",
          "evalue": "cannot identify image file <_io.BytesIO object at 0x7e2b5c263b00>",
          "traceback": [
            "\u001b[0;31m---------------------------------------------------------------------------\u001b[0m",
            "\u001b[0;31mUnidentifiedImageError\u001b[0m                    Traceback (most recent call last)",
            "\u001b[0;32m<ipython-input-20-bda3c1f0f614>\u001b[0m in \u001b[0;36m<cell line: 1>\u001b[0;34m()\u001b[0m\n\u001b[0;32m----> 1\u001b[0;31m history = model.fit(\n\u001b[0m\u001b[1;32m      2\u001b[0m     \u001b[0mtrain_generator\u001b[0m\u001b[0;34m,\u001b[0m\u001b[0;34m\u001b[0m\u001b[0;34m\u001b[0m\u001b[0m\n\u001b[1;32m      3\u001b[0m     \u001b[0msteps_per_epoch\u001b[0m\u001b[0;34m=\u001b[0m\u001b[0mtrain_generator\u001b[0m\u001b[0;34m.\u001b[0m\u001b[0msamples\u001b[0m \u001b[0;34m//\u001b[0m \u001b[0mtrain_generator\u001b[0m\u001b[0;34m.\u001b[0m\u001b[0mbatch_size\u001b[0m\u001b[0;34m,\u001b[0m\u001b[0;34m\u001b[0m\u001b[0;34m\u001b[0m\u001b[0m\n\u001b[1;32m      4\u001b[0m     \u001b[0mepochs\u001b[0m\u001b[0;34m=\u001b[0m\u001b[0;36m10\u001b[0m\u001b[0;34m,\u001b[0m\u001b[0;34m\u001b[0m\u001b[0;34m\u001b[0m\u001b[0m\n\u001b[1;32m      5\u001b[0m     \u001b[0mvalidation_data\u001b[0m\u001b[0;34m=\u001b[0m\u001b[0mval_generator\u001b[0m\u001b[0;34m,\u001b[0m\u001b[0;34m\u001b[0m\u001b[0;34m\u001b[0m\u001b[0m\n",
            "\u001b[0;32m/usr/local/lib/python3.10/dist-packages/keras/src/utils/traceback_utils.py\u001b[0m in \u001b[0;36merror_handler\u001b[0;34m(*args, **kwargs)\u001b[0m\n\u001b[1;32m    120\u001b[0m             \u001b[0;31m# To get the full stack trace, call:\u001b[0m\u001b[0;34m\u001b[0m\u001b[0;34m\u001b[0m\u001b[0m\n\u001b[1;32m    121\u001b[0m             \u001b[0;31m# `keras.config.disable_traceback_filtering()`\u001b[0m\u001b[0;34m\u001b[0m\u001b[0;34m\u001b[0m\u001b[0m\n\u001b[0;32m--> 122\u001b[0;31m             \u001b[0;32mraise\u001b[0m \u001b[0me\u001b[0m\u001b[0;34m.\u001b[0m\u001b[0mwith_traceback\u001b[0m\u001b[0;34m(\u001b[0m\u001b[0mfiltered_tb\u001b[0m\u001b[0;34m)\u001b[0m \u001b[0;32mfrom\u001b[0m \u001b[0;32mNone\u001b[0m\u001b[0;34m\u001b[0m\u001b[0;34m\u001b[0m\u001b[0m\n\u001b[0m\u001b[1;32m    123\u001b[0m         \u001b[0;32mfinally\u001b[0m\u001b[0;34m:\u001b[0m\u001b[0;34m\u001b[0m\u001b[0;34m\u001b[0m\u001b[0m\n\u001b[1;32m    124\u001b[0m             \u001b[0;32mdel\u001b[0m \u001b[0mfiltered_tb\u001b[0m\u001b[0;34m\u001b[0m\u001b[0;34m\u001b[0m\u001b[0m\n",
            "\u001b[0;32m/usr/local/lib/python3.10/dist-packages/PIL/Image.py\u001b[0m in \u001b[0;36mopen\u001b[0;34m(fp, mode, formats)\u001b[0m\n\u001b[1;32m   3534\u001b[0m         \u001b[0mwarnings\u001b[0m\u001b[0;34m.\u001b[0m\u001b[0mwarn\u001b[0m\u001b[0;34m(\u001b[0m\u001b[0mmessage\u001b[0m\u001b[0;34m)\u001b[0m\u001b[0;34m\u001b[0m\u001b[0;34m\u001b[0m\u001b[0m\n\u001b[1;32m   3535\u001b[0m     \u001b[0mmsg\u001b[0m \u001b[0;34m=\u001b[0m \u001b[0;34m\"cannot identify image file %r\"\u001b[0m \u001b[0;34m%\u001b[0m \u001b[0;34m(\u001b[0m\u001b[0mfilename\u001b[0m \u001b[0;32mif\u001b[0m \u001b[0mfilename\u001b[0m \u001b[0;32melse\u001b[0m \u001b[0mfp\u001b[0m\u001b[0;34m)\u001b[0m\u001b[0;34m\u001b[0m\u001b[0;34m\u001b[0m\u001b[0m\n\u001b[0;32m-> 3536\u001b[0;31m     \u001b[0;32mraise\u001b[0m \u001b[0mUnidentifiedImageError\u001b[0m\u001b[0;34m(\u001b[0m\u001b[0mmsg\u001b[0m\u001b[0;34m)\u001b[0m\u001b[0;34m\u001b[0m\u001b[0;34m\u001b[0m\u001b[0m\n\u001b[0m\u001b[1;32m   3537\u001b[0m \u001b[0;34m\u001b[0m\u001b[0m\n\u001b[1;32m   3538\u001b[0m \u001b[0;34m\u001b[0m\u001b[0m\n",
            "\u001b[0;31mUnidentifiedImageError\u001b[0m: cannot identify image file <_io.BytesIO object at 0x7e2b5c263b00>"
          ]
        }
      ]
    },
    {
      "cell_type": "code",
      "source": [
        "\n",
        "##Borrar archivos que no son imagenes\n",
        "\n",
        "import os\n",
        "\n",
        "train_stop_dir = os.path.join(train_dir, 'Stop')\n",
        "train_nostop_dir = os.path.join(train_dir, 'NoStop')\n",
        "\n",
        "print(\"Archivos en Stop:\")\n",
        "print(os.listdir(train_stop_dir))\n",
        "\n",
        "print(\"\\nArchivos en NoStop:\")\n",
        "print(os.listdir(train_nostop_dir))\n"
      ],
      "metadata": {
        "colab": {
          "base_uri": "https://localhost:8080/"
        },
        "id": "tDcYN1rEk6Hf",
        "outputId": "3c5e9396-30d6-4c7a-b054-c58991aacc2b"
      },
      "execution_count": 21,
      "outputs": [
        {
          "output_type": "stream",
          "name": "stdout",
          "text": [
            "Archivos en Stop:\n",
            "['not_stop']\n",
            "\n",
            "Archivos en NoStop:\n",
            "['__MACOSX']\n"
          ]
        }
      ]
    },
    {
      "cell_type": "code",
      "source": [
        "import imghdr\n",
        "\n",
        "def verify_images(directory):\n",
        "    num_deleted = 0\n",
        "    for root, dirs, files in os.walk(directory):\n",
        "        for fname in files:\n",
        "            file_path = os.path.join(root, fname)\n",
        "            try:\n",
        "                img_type = imghdr.what(file_path)\n",
        "                if not img_type:\n",
        "                    print(f\"El archivo {file_path} no es una imagen válida. Eliminando...\")\n",
        "                    os.remove(file_path)\n",
        "                    num_deleted += 1\n",
        "            except Exception as e:\n",
        "                print(f\"Error al procesar el archivo {file_path}: {e}\")\n",
        "                os.remove(file_path)\n",
        "                num_deleted += 1\n",
        "    print(f\"Total de archivos eliminados en {directory}: {num_deleted}\")\n",
        "\n",
        "# Verificar directorios de entrenamiento\n",
        "verify_images(train_stop_dir)\n",
        "verify_images(train_nostop_dir)\n",
        "\n",
        "# Verificar directorios de validación\n",
        "val_stop_dir = os.path.join(val_dir, 'Stop')\n",
        "val_nostop_dir = os.path.join(val_dir, 'NoStop')\n",
        "\n",
        "verify_images(val_stop_dir)\n",
        "verify_images(val_nostop_dir)\n"
      ],
      "metadata": {
        "colab": {
          "base_uri": "https://localhost:8080/"
        },
        "id": "Dw3J5b7nlGVW",
        "outputId": "cffae18c-67c7-46c6-c4ea-120531e85160"
      },
      "execution_count": 22,
      "outputs": [
        {
          "output_type": "stream",
          "name": "stdout",
          "text": [
            "El archivo /content/data/train/Stop/not_stop/160.jpg no es una imagen válida. Eliminando...\n",
            "El archivo /content/data/train/Stop/not_stop/.DS_Store no es una imagen válida. Eliminando...\n",
            "El archivo /content/data/train/Stop/not_stop/152.jpg no es una imagen válida. Eliminando...\n",
            "El archivo /content/data/train/Stop/not_stop/193.jpg no es una imagen válida. Eliminando...\n",
            "Total de archivos eliminados en /content/data/train/Stop: 4\n",
            "El archivo /content/data/train/NoStop/__MACOSX/not_stop/._146.jpg no es una imagen válida. Eliminando...\n",
            "El archivo /content/data/train/NoStop/__MACOSX/not_stop/._156.jpg no es una imagen válida. Eliminando...\n",
            "El archivo /content/data/train/NoStop/__MACOSX/not_stop/._200.jpg no es una imagen válida. Eliminando...\n",
            "El archivo /content/data/train/NoStop/__MACOSX/not_stop/._142.jpg no es una imagen válida. Eliminando...\n",
            "El archivo /content/data/train/NoStop/__MACOSX/not_stop/._116.jpg no es una imagen válida. Eliminando...\n",
            "El archivo /content/data/train/NoStop/__MACOSX/not_stop/._192.jpg no es una imagen válida. Eliminando...\n",
            "El archivo /content/data/train/NoStop/__MACOSX/not_stop/._108.jpg no es una imagen válida. Eliminando...\n",
            "El archivo /content/data/train/NoStop/__MACOSX/not_stop/._144.jpg no es una imagen válida. Eliminando...\n",
            "El archivo /content/data/train/NoStop/__MACOSX/not_stop/._184.jpg no es una imagen válida. Eliminando...\n",
            "El archivo /content/data/train/NoStop/__MACOSX/not_stop/._197.jpg no es una imagen válida. Eliminando...\n",
            "El archivo /content/data/train/NoStop/__MACOSX/not_stop/._102.jpg no es una imagen válida. Eliminando...\n",
            "El archivo /content/data/train/NoStop/__MACOSX/not_stop/._164.jpg no es una imagen válida. Eliminando...\n",
            "El archivo /content/data/train/NoStop/__MACOSX/not_stop/._191.jpg no es una imagen válida. Eliminando...\n",
            "El archivo /content/data/train/NoStop/__MACOSX/not_stop/._183.jpg no es una imagen válida. Eliminando...\n",
            "El archivo /content/data/train/NoStop/__MACOSX/not_stop/._106.jpg no es una imagen válida. Eliminando...\n",
            "El archivo /content/data/train/NoStop/__MACOSX/not_stop/._178.jpg no es una imagen válida. Eliminando...\n",
            "El archivo /content/data/train/NoStop/__MACOSX/not_stop/._153.jpeg no es una imagen válida. Eliminando...\n",
            "El archivo /content/data/train/NoStop/__MACOSX/not_stop/._129.jpg no es una imagen válida. Eliminando...\n",
            "El archivo /content/data/train/NoStop/__MACOSX/not_stop/._179.jpg no es una imagen válida. Eliminando...\n",
            "El archivo /content/data/train/NoStop/__MACOSX/not_stop/._159.jpg no es una imagen válida. Eliminando...\n",
            "El archivo /content/data/train/NoStop/__MACOSX/not_stop/._109.jpg no es una imagen válida. Eliminando...\n",
            "El archivo /content/data/train/NoStop/__MACOSX/not_stop/._119.jpg no es una imagen válida. Eliminando...\n",
            "El archivo /content/data/train/NoStop/__MACOSX/not_stop/._199.jpg no es una imagen válida. Eliminando...\n",
            "El archivo /content/data/train/NoStop/__MACOSX/not_stop/._194.jpg no es una imagen válida. Eliminando...\n",
            "El archivo /content/data/train/NoStop/__MACOSX/not_stop/._166.jpg no es una imagen válida. Eliminando...\n",
            "El archivo /content/data/train/NoStop/__MACOSX/not_stop/._168.JPG no es una imagen válida. Eliminando...\n",
            "El archivo /content/data/train/NoStop/__MACOSX/not_stop/._188.jpg no es una imagen válida. Eliminando...\n",
            "El archivo /content/data/train/NoStop/__MACOSX/not_stop/._171.jpeg no es una imagen válida. Eliminando...\n",
            "El archivo /content/data/train/NoStop/__MACOSX/not_stop/._126.JPG no es una imagen válida. Eliminando...\n",
            "El archivo /content/data/train/NoStop/__MACOSX/not_stop/._187.jpg no es una imagen válida. Eliminando...\n",
            "El archivo /content/data/train/NoStop/__MACOSX/not_stop/._172.jpg no es una imagen válida. Eliminando...\n",
            "El archivo /content/data/train/NoStop/__MACOSX/not_stop/._163.jpg no es una imagen válida. Eliminando...\n",
            "El archivo /content/data/train/NoStop/__MACOSX/not_stop/._170.png no es una imagen válida. Eliminando...\n",
            "El archivo /content/data/train/NoStop/__MACOSX/not_stop/._101.jpg no es una imagen válida. Eliminando...\n",
            "El archivo /content/data/train/NoStop/__MACOSX/not_stop/._140.jpg no es una imagen válida. Eliminando...\n",
            "El archivo /content/data/train/NoStop/__MACOSX/not_stop/._173.jpg no es una imagen válida. Eliminando...\n",
            "El archivo /content/data/train/NoStop/__MACOSX/not_stop/._117.JPG no es una imagen válida. Eliminando...\n",
            "El archivo /content/data/train/NoStop/__MACOSX/not_stop/._150.png no es una imagen válida. Eliminando...\n",
            "El archivo /content/data/train/NoStop/__MACOSX/not_stop/._107.jpg no es una imagen válida. Eliminando...\n",
            "El archivo /content/data/train/NoStop/__MACOSX/not_stop/._185.jpg no es una imagen válida. Eliminando...\n",
            "El archivo /content/data/train/NoStop/__MACOSX/not_stop/._154.jpg no es una imagen válida. Eliminando...\n",
            "El archivo /content/data/train/NoStop/__MACOSX/not_stop/._151.jpg no es una imagen válida. Eliminando...\n",
            "El archivo /content/data/train/NoStop/__MACOSX/not_stop/._145.jpg no es una imagen válida. Eliminando...\n",
            "El archivo /content/data/train/NoStop/__MACOSX/not_stop/._115.jpeg no es una imagen válida. Eliminando...\n",
            "El archivo /content/data/train/NoStop/__MACOSX/not_stop/._131.jpeg no es una imagen válida. Eliminando...\n",
            "El archivo /content/data/train/NoStop/__MACOSX/not_stop/._157.jpg no es una imagen válida. Eliminando...\n",
            "El archivo /content/data/train/NoStop/__MACOSX/not_stop/._143.jpg no es una imagen válida. Eliminando...\n",
            "El archivo /content/data/train/NoStop/__MACOSX/not_stop/._175.jpg no es una imagen válida. Eliminando...\n",
            "El archivo /content/data/train/NoStop/__MACOSX/not_stop/._104.jpg no es una imagen válida. Eliminando...\n",
            "El archivo /content/data/train/NoStop/__MACOSX/not_stop/._182.jpg no es una imagen válida. Eliminando...\n",
            "El archivo /content/data/train/NoStop/__MACOSX/not_stop/._113.jpg no es una imagen válida. Eliminando...\n",
            "El archivo /content/data/train/NoStop/__MACOSX/not_stop/._162.jpg no es una imagen válida. Eliminando...\n",
            "El archivo /content/data/train/NoStop/__MACOSX/not_stop/._147.jpg no es una imagen válida. Eliminando...\n",
            "El archivo /content/data/train/NoStop/__MACOSX/not_stop/._123.jpg no es una imagen válida. Eliminando...\n",
            "El archivo /content/data/train/NoStop/__MACOSX/not_stop/._122.jpg no es una imagen válida. Eliminando...\n",
            "El archivo /content/data/train/NoStop/__MACOSX/not_stop/._112.jpg no es una imagen válida. Eliminando...\n",
            "El archivo /content/data/train/NoStop/__MACOSX/not_stop/._135.jpg no es una imagen válida. Eliminando...\n",
            "El archivo /content/data/train/NoStop/__MACOSX/not_stop/._118.JPG no es una imagen válida. Eliminando...\n",
            "El archivo /content/data/train/NoStop/__MACOSX/not_stop/._128.jpg no es una imagen válida. Eliminando...\n",
            "El archivo /content/data/train/NoStop/__MACOSX/not_stop/._137.jpg no es una imagen válida. Eliminando...\n",
            "El archivo /content/data/train/NoStop/__MACOSX/not_stop/._198.jpeg no es una imagen válida. Eliminando...\n",
            "El archivo /content/data/train/NoStop/__MACOSX/not_stop/._152.jpg no es una imagen válida. Eliminando...\n",
            "El archivo /content/data/train/NoStop/__MACOSX/not_stop/._134.jpg no es una imagen válida. Eliminando...\n",
            "El archivo /content/data/train/NoStop/__MACOSX/not_stop/._180.jpg no es una imagen válida. Eliminando...\n",
            "El archivo /content/data/train/NoStop/__MACOSX/not_stop/._110.jpg no es una imagen válida. Eliminando...\n",
            "El archivo /content/data/train/NoStop/__MACOSX/not_stop/._124.jpg no es una imagen válida. Eliminando...\n",
            "El archivo /content/data/train/NoStop/__MACOSX/not_stop/._176.jpg no es una imagen válida. Eliminando...\n",
            "El archivo /content/data/train/NoStop/__MACOSX/not_stop/._132.jpg no es una imagen válida. Eliminando...\n",
            "El archivo /content/data/train/NoStop/__MACOSX/not_stop/._138.JPG no es una imagen válida. Eliminando...\n",
            "El archivo /content/data/train/NoStop/__MACOSX/not_stop/._165.jpg no es una imagen válida. Eliminando...\n",
            "El archivo /content/data/train/NoStop/__MACOSX/not_stop/._158.jpg no es una imagen válida. Eliminando...\n",
            "El archivo /content/data/train/NoStop/__MACOSX/not_stop/._167.jpg no es una imagen válida. Eliminando...\n",
            "El archivo /content/data/train/NoStop/__MACOSX/not_stop/._130.jpg no es una imagen válida. Eliminando...\n",
            "El archivo /content/data/train/NoStop/__MACOSX/not_stop/._195.jpg no es una imagen válida. Eliminando...\n",
            "El archivo /content/data/train/NoStop/__MACOSX/not_stop/._189.jpg no es una imagen válida. Eliminando...\n",
            "El archivo /content/data/train/NoStop/__MACOSX/not_stop/._136.jpg no es una imagen válida. Eliminando...\n",
            "El archivo /content/data/train/NoStop/__MACOSX/not_stop/._103.jpg no es una imagen válida. Eliminando...\n",
            "El archivo /content/data/train/NoStop/__MACOSX/not_stop/._139.jpg no es una imagen válida. Eliminando...\n",
            "El archivo /content/data/train/NoStop/__MACOSX/not_stop/._120.jpg no es una imagen válida. Eliminando...\n",
            "El archivo /content/data/train/NoStop/__MACOSX/not_stop/._125.JPG no es una imagen válida. Eliminando...\n",
            "El archivo /content/data/train/NoStop/__MACOSX/not_stop/._127.jpg no es una imagen válida. Eliminando...\n",
            "El archivo /content/data/train/NoStop/__MACOSX/not_stop/._177.jpg no es una imagen válida. Eliminando...\n",
            "El archivo /content/data/train/NoStop/__MACOSX/not_stop/._181.jpg no es una imagen válida. Eliminando...\n",
            "El archivo /content/data/train/NoStop/__MACOSX/not_stop/._121.JPG no es una imagen válida. Eliminando...\n",
            "El archivo /content/data/train/NoStop/__MACOSX/not_stop/._193.jpg no es una imagen válida. Eliminando...\n",
            "El archivo /content/data/train/NoStop/__MACOSX/not_stop/._141.jpg no es una imagen válida. Eliminando...\n",
            "El archivo /content/data/train/NoStop/__MACOSX/not_stop/._149.jpg no es una imagen válida. Eliminando...\n",
            "El archivo /content/data/train/NoStop/__MACOSX/not_stop/._155.jpg no es una imagen válida. Eliminando...\n",
            "El archivo /content/data/train/NoStop/__MACOSX/not_stop/._114.jpg no es una imagen válida. Eliminando...\n",
            "El archivo /content/data/train/NoStop/__MACOSX/not_stop/._186.jpg no es una imagen válida. Eliminando...\n",
            "El archivo /content/data/train/NoStop/__MACOSX/not_stop/._169.jpg no es una imagen válida. Eliminando...\n",
            "El archivo /content/data/train/NoStop/__MACOSX/not_stop/._196.jpg no es una imagen válida. Eliminando...\n",
            "El archivo /content/data/train/NoStop/__MACOSX/not_stop/._160.jpg no es una imagen válida. Eliminando...\n",
            "El archivo /content/data/train/NoStop/__MACOSX/not_stop/._105.jpg no es una imagen válida. Eliminando...\n",
            "El archivo /content/data/train/NoStop/__MACOSX/not_stop/._190.jpg no es una imagen válida. Eliminando...\n",
            "El archivo /content/data/train/NoStop/__MACOSX/not_stop/._.DS_Store no es una imagen válida. Eliminando...\n",
            "El archivo /content/data/train/NoStop/__MACOSX/not_stop/._111.jpg no es una imagen válida. Eliminando...\n",
            "El archivo /content/data/train/NoStop/__MACOSX/not_stop/._148.jpg no es una imagen válida. Eliminando...\n",
            "El archivo /content/data/train/NoStop/__MACOSX/not_stop/._161.jpg no es una imagen válida. Eliminando...\n",
            "El archivo /content/data/train/NoStop/__MACOSX/not_stop/._133.jpg no es una imagen válida. Eliminando...\n",
            "El archivo /content/data/train/NoStop/__MACOSX/not_stop/._174.jpg no es una imagen válida. Eliminando...\n",
            "Total de archivos eliminados en /content/data/train/NoStop: 101\n",
            "El archivo /content/data/val/Stop/__MACOSX/not_stop/._146.jpg no es una imagen válida. Eliminando...\n",
            "El archivo /content/data/val/Stop/__MACOSX/not_stop/._156.jpg no es una imagen válida. Eliminando...\n",
            "El archivo /content/data/val/Stop/__MACOSX/not_stop/._200.jpg no es una imagen válida. Eliminando...\n",
            "El archivo /content/data/val/Stop/__MACOSX/not_stop/._142.jpg no es una imagen válida. Eliminando...\n",
            "El archivo /content/data/val/Stop/__MACOSX/not_stop/._116.jpg no es una imagen válida. Eliminando...\n",
            "El archivo /content/data/val/Stop/__MACOSX/not_stop/._192.jpg no es una imagen válida. Eliminando...\n",
            "El archivo /content/data/val/Stop/__MACOSX/not_stop/._108.jpg no es una imagen válida. Eliminando...\n",
            "El archivo /content/data/val/Stop/__MACOSX/not_stop/._144.jpg no es una imagen válida. Eliminando...\n",
            "El archivo /content/data/val/Stop/__MACOSX/not_stop/._184.jpg no es una imagen válida. Eliminando...\n",
            "El archivo /content/data/val/Stop/__MACOSX/not_stop/._197.jpg no es una imagen válida. Eliminando...\n",
            "El archivo /content/data/val/Stop/__MACOSX/not_stop/._102.jpg no es una imagen válida. Eliminando...\n",
            "El archivo /content/data/val/Stop/__MACOSX/not_stop/._164.jpg no es una imagen válida. Eliminando...\n",
            "El archivo /content/data/val/Stop/__MACOSX/not_stop/._191.jpg no es una imagen válida. Eliminando...\n",
            "El archivo /content/data/val/Stop/__MACOSX/not_stop/._183.jpg no es una imagen válida. Eliminando...\n",
            "El archivo /content/data/val/Stop/__MACOSX/not_stop/._106.jpg no es una imagen válida. Eliminando...\n",
            "El archivo /content/data/val/Stop/__MACOSX/not_stop/._178.jpg no es una imagen válida. Eliminando...\n",
            "El archivo /content/data/val/Stop/__MACOSX/not_stop/._153.jpeg no es una imagen válida. Eliminando...\n",
            "El archivo /content/data/val/Stop/__MACOSX/not_stop/._129.jpg no es una imagen válida. Eliminando...\n",
            "El archivo /content/data/val/Stop/__MACOSX/not_stop/._179.jpg no es una imagen válida. Eliminando...\n",
            "El archivo /content/data/val/Stop/__MACOSX/not_stop/._159.jpg no es una imagen válida. Eliminando...\n",
            "El archivo /content/data/val/Stop/__MACOSX/not_stop/._109.jpg no es una imagen válida. Eliminando...\n",
            "El archivo /content/data/val/Stop/__MACOSX/not_stop/._119.jpg no es una imagen válida. Eliminando...\n",
            "El archivo /content/data/val/Stop/__MACOSX/not_stop/._199.jpg no es una imagen válida. Eliminando...\n",
            "El archivo /content/data/val/Stop/__MACOSX/not_stop/._194.jpg no es una imagen válida. Eliminando...\n",
            "El archivo /content/data/val/Stop/__MACOSX/not_stop/._166.jpg no es una imagen válida. Eliminando...\n",
            "El archivo /content/data/val/Stop/__MACOSX/not_stop/._168.JPG no es una imagen válida. Eliminando...\n",
            "El archivo /content/data/val/Stop/__MACOSX/not_stop/._188.jpg no es una imagen válida. Eliminando...\n",
            "El archivo /content/data/val/Stop/__MACOSX/not_stop/._171.jpeg no es una imagen válida. Eliminando...\n",
            "El archivo /content/data/val/Stop/__MACOSX/not_stop/._126.JPG no es una imagen válida. Eliminando...\n",
            "El archivo /content/data/val/Stop/__MACOSX/not_stop/._187.jpg no es una imagen válida. Eliminando...\n",
            "El archivo /content/data/val/Stop/__MACOSX/not_stop/._172.jpg no es una imagen válida. Eliminando...\n",
            "El archivo /content/data/val/Stop/__MACOSX/not_stop/._163.jpg no es una imagen válida. Eliminando...\n",
            "El archivo /content/data/val/Stop/__MACOSX/not_stop/._170.png no es una imagen válida. Eliminando...\n",
            "El archivo /content/data/val/Stop/__MACOSX/not_stop/._101.jpg no es una imagen válida. Eliminando...\n",
            "El archivo /content/data/val/Stop/__MACOSX/not_stop/._140.jpg no es una imagen válida. Eliminando...\n",
            "El archivo /content/data/val/Stop/__MACOSX/not_stop/._173.jpg no es una imagen válida. Eliminando...\n",
            "El archivo /content/data/val/Stop/__MACOSX/not_stop/._117.JPG no es una imagen válida. Eliminando...\n",
            "El archivo /content/data/val/Stop/__MACOSX/not_stop/._150.png no es una imagen válida. Eliminando...\n",
            "El archivo /content/data/val/Stop/__MACOSX/not_stop/._107.jpg no es una imagen válida. Eliminando...\n",
            "El archivo /content/data/val/Stop/__MACOSX/not_stop/._185.jpg no es una imagen válida. Eliminando...\n",
            "El archivo /content/data/val/Stop/__MACOSX/not_stop/._154.jpg no es una imagen válida. Eliminando...\n",
            "El archivo /content/data/val/Stop/__MACOSX/not_stop/._151.jpg no es una imagen válida. Eliminando...\n",
            "El archivo /content/data/val/Stop/__MACOSX/not_stop/._145.jpg no es una imagen válida. Eliminando...\n",
            "El archivo /content/data/val/Stop/__MACOSX/not_stop/._115.jpeg no es una imagen válida. Eliminando...\n",
            "El archivo /content/data/val/Stop/__MACOSX/not_stop/._131.jpeg no es una imagen válida. Eliminando...\n",
            "El archivo /content/data/val/Stop/__MACOSX/not_stop/._157.jpg no es una imagen válida. Eliminando...\n",
            "El archivo /content/data/val/Stop/__MACOSX/not_stop/._143.jpg no es una imagen válida. Eliminando...\n",
            "El archivo /content/data/val/Stop/__MACOSX/not_stop/._175.jpg no es una imagen válida. Eliminando...\n",
            "El archivo /content/data/val/Stop/__MACOSX/not_stop/._104.jpg no es una imagen válida. Eliminando...\n",
            "El archivo /content/data/val/Stop/__MACOSX/not_stop/._182.jpg no es una imagen válida. Eliminando...\n",
            "El archivo /content/data/val/Stop/__MACOSX/not_stop/._113.jpg no es una imagen válida. Eliminando...\n",
            "El archivo /content/data/val/Stop/__MACOSX/not_stop/._162.jpg no es una imagen válida. Eliminando...\n",
            "El archivo /content/data/val/Stop/__MACOSX/not_stop/._147.jpg no es una imagen válida. Eliminando...\n",
            "El archivo /content/data/val/Stop/__MACOSX/not_stop/._123.jpg no es una imagen válida. Eliminando...\n",
            "El archivo /content/data/val/Stop/__MACOSX/not_stop/._122.jpg no es una imagen válida. Eliminando...\n",
            "El archivo /content/data/val/Stop/__MACOSX/not_stop/._112.jpg no es una imagen válida. Eliminando...\n",
            "El archivo /content/data/val/Stop/__MACOSX/not_stop/._135.jpg no es una imagen válida. Eliminando...\n",
            "El archivo /content/data/val/Stop/__MACOSX/not_stop/._118.JPG no es una imagen válida. Eliminando...\n",
            "El archivo /content/data/val/Stop/__MACOSX/not_stop/._128.jpg no es una imagen válida. Eliminando...\n",
            "El archivo /content/data/val/Stop/__MACOSX/not_stop/._137.jpg no es una imagen válida. Eliminando...\n",
            "El archivo /content/data/val/Stop/__MACOSX/not_stop/._198.jpeg no es una imagen válida. Eliminando...\n",
            "El archivo /content/data/val/Stop/__MACOSX/not_stop/._152.jpg no es una imagen válida. Eliminando...\n",
            "El archivo /content/data/val/Stop/__MACOSX/not_stop/._134.jpg no es una imagen válida. Eliminando...\n",
            "El archivo /content/data/val/Stop/__MACOSX/not_stop/._180.jpg no es una imagen válida. Eliminando...\n",
            "El archivo /content/data/val/Stop/__MACOSX/not_stop/._110.jpg no es una imagen válida. Eliminando...\n",
            "El archivo /content/data/val/Stop/__MACOSX/not_stop/._124.jpg no es una imagen válida. Eliminando...\n",
            "El archivo /content/data/val/Stop/__MACOSX/not_stop/._176.jpg no es una imagen válida. Eliminando...\n",
            "El archivo /content/data/val/Stop/__MACOSX/not_stop/._132.jpg no es una imagen válida. Eliminando...\n",
            "El archivo /content/data/val/Stop/__MACOSX/not_stop/._138.JPG no es una imagen válida. Eliminando...\n",
            "El archivo /content/data/val/Stop/__MACOSX/not_stop/._165.jpg no es una imagen válida. Eliminando...\n",
            "El archivo /content/data/val/Stop/__MACOSX/not_stop/._158.jpg no es una imagen válida. Eliminando...\n",
            "El archivo /content/data/val/Stop/__MACOSX/not_stop/._167.jpg no es una imagen válida. Eliminando...\n",
            "El archivo /content/data/val/Stop/__MACOSX/not_stop/._130.jpg no es una imagen válida. Eliminando...\n",
            "El archivo /content/data/val/Stop/__MACOSX/not_stop/._195.jpg no es una imagen válida. Eliminando...\n",
            "El archivo /content/data/val/Stop/__MACOSX/not_stop/._189.jpg no es una imagen válida. Eliminando...\n",
            "El archivo /content/data/val/Stop/__MACOSX/not_stop/._136.jpg no es una imagen válida. Eliminando...\n",
            "El archivo /content/data/val/Stop/__MACOSX/not_stop/._103.jpg no es una imagen válida. Eliminando...\n",
            "El archivo /content/data/val/Stop/__MACOSX/not_stop/._139.jpg no es una imagen válida. Eliminando...\n",
            "El archivo /content/data/val/Stop/__MACOSX/not_stop/._120.jpg no es una imagen válida. Eliminando...\n",
            "El archivo /content/data/val/Stop/__MACOSX/not_stop/._125.JPG no es una imagen válida. Eliminando...\n",
            "El archivo /content/data/val/Stop/__MACOSX/not_stop/._127.jpg no es una imagen válida. Eliminando...\n",
            "El archivo /content/data/val/Stop/__MACOSX/not_stop/._177.jpg no es una imagen válida. Eliminando...\n",
            "El archivo /content/data/val/Stop/__MACOSX/not_stop/._181.jpg no es una imagen válida. Eliminando...\n",
            "El archivo /content/data/val/Stop/__MACOSX/not_stop/._121.JPG no es una imagen válida. Eliminando...\n",
            "El archivo /content/data/val/Stop/__MACOSX/not_stop/._193.jpg no es una imagen válida. Eliminando...\n",
            "El archivo /content/data/val/Stop/__MACOSX/not_stop/._141.jpg no es una imagen válida. Eliminando...\n",
            "El archivo /content/data/val/Stop/__MACOSX/not_stop/._149.jpg no es una imagen válida. Eliminando...\n",
            "El archivo /content/data/val/Stop/__MACOSX/not_stop/._155.jpg no es una imagen válida. Eliminando...\n",
            "El archivo /content/data/val/Stop/__MACOSX/not_stop/._114.jpg no es una imagen válida. Eliminando...\n",
            "El archivo /content/data/val/Stop/__MACOSX/not_stop/._186.jpg no es una imagen válida. Eliminando...\n",
            "El archivo /content/data/val/Stop/__MACOSX/not_stop/._169.jpg no es una imagen válida. Eliminando...\n",
            "El archivo /content/data/val/Stop/__MACOSX/not_stop/._196.jpg no es una imagen válida. Eliminando...\n",
            "El archivo /content/data/val/Stop/__MACOSX/not_stop/._160.jpg no es una imagen válida. Eliminando...\n",
            "El archivo /content/data/val/Stop/__MACOSX/not_stop/._105.jpg no es una imagen válida. Eliminando...\n",
            "El archivo /content/data/val/Stop/__MACOSX/not_stop/._190.jpg no es una imagen válida. Eliminando...\n",
            "El archivo /content/data/val/Stop/__MACOSX/not_stop/._.DS_Store no es una imagen válida. Eliminando...\n",
            "El archivo /content/data/val/Stop/__MACOSX/not_stop/._111.jpg no es una imagen válida. Eliminando...\n",
            "El archivo /content/data/val/Stop/__MACOSX/not_stop/._148.jpg no es una imagen válida. Eliminando...\n",
            "El archivo /content/data/val/Stop/__MACOSX/not_stop/._161.jpg no es una imagen válida. Eliminando...\n",
            "El archivo /content/data/val/Stop/__MACOSX/not_stop/._133.jpg no es una imagen válida. Eliminando...\n",
            "El archivo /content/data/val/Stop/__MACOSX/not_stop/._174.jpg no es una imagen válida. Eliminando...\n",
            "Total de archivos eliminados en /content/data/val/Stop: 101\n",
            "El archivo /content/data/val/NoStop/not_stop/160.jpg no es una imagen válida. Eliminando...\n",
            "El archivo /content/data/val/NoStop/not_stop/.DS_Store no es una imagen válida. Eliminando...\n",
            "El archivo /content/data/val/NoStop/not_stop/152.jpg no es una imagen válida. Eliminando...\n",
            "El archivo /content/data/val/NoStop/not_stop/193.jpg no es una imagen válida. Eliminando...\n",
            "Total de archivos eliminados en /content/data/val/NoStop: 4\n"
          ]
        }
      ]
    },
    {
      "cell_type": "code",
      "source": [
        "#Volver a entrenar\n",
        "\n",
        "train_generator = train_datagen.flow_from_directory(\n",
        "    train_dir,\n",
        "    target_size=(64, 64),\n",
        "    batch_size=32,\n",
        "    class_mode='binary'\n",
        ")\n",
        "\n",
        "val_generator = val_datagen.flow_from_directory(\n",
        "    val_dir,\n",
        "    target_size=(64, 64),\n",
        "    batch_size=32,\n",
        "    class_mode='binary'\n",
        ")\n"
      ],
      "metadata": {
        "colab": {
          "base_uri": "https://localhost:8080/"
        },
        "id": "lJ_Lsl3SlQcy",
        "outputId": "4ddd04c6-48e9-4c38-de5c-04d46246411b"
      },
      "execution_count": 23,
      "outputs": [
        {
          "output_type": "stream",
          "name": "stdout",
          "text": [
            "Found 193 images belonging to 4 classes.\n",
            "Found 134 images belonging to 4 classes.\n"
          ]
        }
      ]
    },
    {
      "cell_type": "code",
      "source": [
        "###\n",
        "##\n",
        "#Entrenamos el modelo\n",
        "\n",
        "history = model.fit(\n",
        "    train_generator,\n",
        "    steps_per_epoch=train_generator.samples // train_generator.batch_size,\n",
        "    epochs=10,\n",
        "    validation_data=val_generator,\n",
        "    validation_steps=val_generator.samples // val_generator.batch_size\n",
        ")\n"
      ],
      "metadata": {
        "colab": {
          "base_uri": "https://localhost:8080/"
        },
        "id": "k1vcUdhPld3b",
        "outputId": "14a5d761-89a0-4932-ea42-ff99a3672b00"
      },
      "execution_count": 24,
      "outputs": [
        {
          "output_type": "stream",
          "name": "stdout",
          "text": [
            "Epoch 1/10\n"
          ]
        },
        {
          "output_type": "stream",
          "name": "stderr",
          "text": [
            "/usr/local/lib/python3.10/dist-packages/keras/src/trainers/data_adapters/py_dataset_adapter.py:122: UserWarning: Your `PyDataset` class should call `super().__init__(**kwargs)` in its constructor. `**kwargs` can include `workers`, `use_multiprocessing`, `max_queue_size`. Do not pass these arguments to `fit()`, as they will be ignored.\n",
            "  self._warn_if_super_not_called()\n"
          ]
        },
        {
          "output_type": "stream",
          "name": "stdout",
          "text": [
            "\u001b[1m6/6\u001b[0m \u001b[32m━━━━━━━━━━━━━━━━━━━━\u001b[0m\u001b[37m\u001b[0m \u001b[1m19s\u001b[0m 1s/step - accuracy: 0.3502 - loss: 0.5434 - val_accuracy: 0.0000e+00 - val_loss: 0.7591\n",
            "Epoch 2/10\n",
            "\u001b[1m1/6\u001b[0m \u001b[32m━━━\u001b[0m\u001b[37m━━━━━━━━━━━━━━━━━\u001b[0m \u001b[1m0s\u001b[0m 45ms/step - accuracy: 0.4062 - loss: -0.2067"
          ]
        },
        {
          "output_type": "stream",
          "name": "stderr",
          "text": [
            "/usr/lib/python3.10/contextlib.py:153: UserWarning: Your input ran out of data; interrupting training. Make sure that your dataset or generator can generate at least `steps_per_epoch * epochs` batches. You may need to use the `.repeat()` function when building your dataset.\n",
            "  self.gen.throw(typ, value, traceback)\n"
          ]
        },
        {
          "output_type": "stream",
          "name": "stdout",
          "text": [
            "\b\b\b\b\b\b\b\b\b\b\b\b\b\b\b\b\b\b\b\b\b\b\b\b\b\b\b\b\b\b\b\b\b\b\b\b\b\b\b\b\b\b\b\b\b\b\b\b\b\b\b\b\b\b\b\b\b\b\b\b\b\b\b\b\b\b\b\b\b\b\b\b\r\u001b[1m6/6\u001b[0m \u001b[32m━━━━━━━━━━━━━━━━━━━━\u001b[0m\u001b[37m\u001b[0m \u001b[1m1s\u001b[0m 176ms/step - accuracy: 0.4062 - loss: -0.2067 - val_accuracy: 0.0000e+00 - val_loss: 0.6587\n",
            "Epoch 3/10\n",
            "\u001b[1m6/6\u001b[0m \u001b[32m━━━━━━━━━━━━━━━━━━━━\u001b[0m\u001b[37m\u001b[0m \u001b[1m11s\u001b[0m 760ms/step - accuracy: 0.5347 - loss: -0.3270 - val_accuracy: 0.0000e+00 - val_loss: 1.2365\n",
            "Epoch 4/10\n",
            "\u001b[1m6/6\u001b[0m \u001b[32m━━━━━━━━━━━━━━━━━━━━\u001b[0m\u001b[37m\u001b[0m \u001b[1m0s\u001b[0m 57ms/step - accuracy: 0.4062 - loss: -1.3598 - val_accuracy: 0.0000e+00 - val_loss: 1.9963\n",
            "Epoch 5/10\n",
            "\u001b[1m6/6\u001b[0m \u001b[32m━━━━━━━━━━━━━━━━━━━━\u001b[0m\u001b[37m\u001b[0m \u001b[1m8s\u001b[0m 610ms/step - accuracy: 0.5134 - loss: -1.4918 - val_accuracy: 0.0000e+00 - val_loss: 2.3265\n",
            "Epoch 6/10\n",
            "\u001b[1m6/6\u001b[0m \u001b[32m━━━━━━━━━━━━━━━━━━━━\u001b[0m\u001b[37m\u001b[0m \u001b[1m0s\u001b[0m 28ms/step - accuracy: 0.5625 - loss: -2.0610 - val_accuracy: 0.0000e+00 - val_loss: 6.0035\n",
            "Epoch 7/10\n",
            "\u001b[1m6/6\u001b[0m \u001b[32m━━━━━━━━━━━━━━━━━━━━\u001b[0m\u001b[37m\u001b[0m \u001b[1m9s\u001b[0m 627ms/step - accuracy: 0.5532 - loss: -2.8516 - val_accuracy: 0.0000e+00 - val_loss: 4.2995\n",
            "Epoch 8/10\n",
            "\u001b[1m6/6\u001b[0m \u001b[32m━━━━━━━━━━━━━━━━━━━━\u001b[0m\u001b[37m\u001b[0m \u001b[1m2s\u001b[0m 397ms/step - accuracy: 0.5625 - loss: -4.1787 - val_accuracy: 0.0000e+00 - val_loss: 10.2811\n",
            "Epoch 9/10\n",
            "\u001b[1m6/6\u001b[0m \u001b[32m━━━━━━━━━━━━━━━━━━━━\u001b[0m\u001b[37m\u001b[0m \u001b[1m9s\u001b[0m 708ms/step - accuracy: 0.4834 - loss: -5.9207 - val_accuracy: 0.0000e+00 - val_loss: 8.2812\n",
            "Epoch 10/10\n",
            "\u001b[1m6/6\u001b[0m \u001b[32m━━━━━━━━━━━━━━━━━━━━\u001b[0m\u001b[37m\u001b[0m \u001b[1m2s\u001b[0m 318ms/step - accuracy: 0.5625 - loss: -7.0413 - val_accuracy: 0.0000e+00 - val_loss: 13.5872\n"
          ]
        }
      ]
    },
    {
      "cell_type": "code",
      "source": [
        "# Precisión\n",
        "\n",
        "### evaluamos el modelo\n",
        "plt.plot(history.history['accuracy'], label='Entrenamiento')\n",
        "plt.plot(history.history['val_accuracy'], label='Validación')\n",
        "plt.title('Precisión del modelo')\n",
        "plt.ylabel('Precisión')\n",
        "plt.xlabel('Época')\n",
        "plt.legend()\n",
        "plt.show()\n",
        "\n",
        "# Pérdida\n",
        "plt.plot(history.history['loss'], label='Entrenamiento')\n",
        "plt.plot(history.history['val_loss'], label='Validación')\n",
        "plt.title('Pérdida del modelo')\n",
        "plt.ylabel('Pérdida')\n",
        "plt.xlabel('Época')\n",
        "plt.legend()\n",
        "plt.show()\n"
      ],
      "metadata": {
        "colab": {
          "base_uri": "https://localhost:8080/",
          "height": 931
        },
        "id": "DUc2vUgcl1Qf",
        "outputId": "39ae55aa-811b-4e9c-fdc1-10cfb9dfdde6"
      },
      "execution_count": 25,
      "outputs": [
        {
          "output_type": "display_data",
          "data": {
            "text/plain": [
              "<Figure size 640x480 with 1 Axes>"
            ],
            "image/png": "[encoded data removed]"
          },
          "metadata": {}
        },
        {
          "output_type": "display_data",
          "data": {
            "text/plain": [
              "<Figure size 640x480 with 1 Axes>"
            ],
            "image/png": "[encoded data removed]"
          },
          "metadata": {}
        }
      ]
    },
    {
      "cell_type": "code",
      "source": [
        "### Guardamos el modelo\n",
        "\n",
        "\n",
        "model.save('stop_sign_classifier.h5')\n"
      ],
      "metadata": {
        "colab": {
          "base_uri": "https://localhost:8080/"
        },
        "id": "ONORfQ99mHmG",
        "outputId": "74f3b359-84dc-42f8-9a06-feaf9cf2d697"
      },
      "execution_count": 26,
      "outputs": [
        {
          "output_type": "stream",
          "name": "stderr",
          "text": [
            "WARNING:absl:You are saving your model as an HDF5 file via `model.save()` or `keras.saving.save_model(model)`. This file format is considered legacy. We recommend using instead the native Keras format, e.g. `model.save('my_model.keras')` or `keras.saving.save_model(model, 'my_model.keras')`. \n"
          ]
        }
      ]
    },
    {
      "source": [
        "\n",
        "\n",
        "### Desplegar el modelo en aplicacion web\n",
        "\n",
        "!pip install streamlit\n",
        "!pip install pyngrok\n",
        "\n",
        "\n",
        "import streamlit as st\n",
        "from tensorflow.keras.models import load_model\n",
        "from tensorflow.keras.preprocessing import image\n",
        "import numpy as np\n",
        "from PIL import Image, ImageOps\n",
        "\n",
        "st.title('Clasificador de Señales de Stop')\n",
        "\n",
        "# Remove the deprecated line\n",
        "# st.set_option('deprecation.showfileUploaderEncoding', False)\n",
        "\n",
        "@st.cache(allow_output_mutation=True)\n",
        "def load_my_model():\n",
        "    model = load_model('stop_sign_classifier.h5')\n",
        "    return model\n",
        "\n",
        "model = load_my_model()\n",
        "\n",
        "st.write(\"\"\"\n",
        "         ## Sube una imagen para clasificarla\n",
        "         \"\"\")\n",
        "\n",
        "uploaded_file = st.file_uploader(\"Elige una imagen...\", type=[\"jpg\", \"jpeg\", \"png\"])\n",
        "\n",
        "if uploaded_file is not None:\n",
        "    # Cargar la imagen\n",
        "    img = Image.open(uploaded_file)\n",
        "    img_resized = img.resize((64, 64))\n",
        "    img_array = image.img_to_array(img_resized) / 255.0\n",
        "    img_array = np.expand_dims(img_array, axis=0)\n",
        "\n",
        "    # Realizar la predicción\n",
        "    prediction = model.predict(img_array)\n",
        "    if prediction[0] > 0.5:\n",
        "        st.write(\"**No es una señal de Stop**\")\n",
        "    else:\n",
        "        st.write(\"**¡Es una señal de Stop!**\")\n",
        "\n",
        "    st.image(img, caption='Imagen subida', use_column_width=True)"
      ],
      "cell_type": "code",
      "metadata": {
        "colab": {
          "base_uri": "https://localhost:8080/"
        },
        "id": "un8w9b72oTkX",
        "outputId": "383cc7e7-bf19-417c-b0f4-ed82a1f02036"
      },
      "execution_count": 29,
      "outputs": [
        {
          "output_type": "stream",
          "name": "stderr",
          "text": [
            "2024-12-04 21:44:00.398 WARNING streamlit.runtime.scriptrunner_utils.script_run_context: Thread 'MainThread': missing ScriptRunContext! This warning can be ignored when running in bare mode.\n",
            "2024-12-04 21:44:00.456 \n",
            "  \u001b[33m\u001b[1mWarning:\u001b[0m to view this Streamlit app on a browser, run it with the following\n",
            "  command:\n",
            "\n",
            "    streamlit run /usr/local/lib/python3.10/dist-packages/colab_kernel_launcher.py [ARGUMENTS]\n",
            "2024-12-04 21:44:00.457 Thread 'MainThread': missing ScriptRunContext! This warning can be ignored when running in bare mode.\n",
            "2024-12-04 21:44:00.460 Thread 'MainThread': missing ScriptRunContext! This warning can be ignored when running in bare mode.\n",
            "2024-12-04 21:44:00.462 Thread 'MainThread': missing ScriptRunContext! This warning can be ignored when running in bare mode.\n",
            "2024-12-04 21:44:00.464 \n",
            "`st.cache` is deprecated and will be removed soon. Please use one of Streamlit's new\n",
            "caching commands, `st.cache_data` or `st.cache_resource`. More information\n",
            "[in our docs](https://docs.streamlit.io/develop/concepts/architecture/caching).\n",
            "\n",
            "**Note**: The behavior of `st.cache` was updated in Streamlit 1.36 to the new caching\n",
            "logic used by `st.cache_data` and `st.cache_resource`. This might lead to some problems\n",
            "or unexpected behavior in certain edge cases.\n",
            "\n",
            "2024-12-04 21:44:00.466 Thread 'MainThread': missing ScriptRunContext! This warning can be ignored when running in bare mode.\n",
            "2024-12-04 21:44:00.468 Thread 'MainThread': missing ScriptRunContext! This warning can be ignored when running in bare mode.\n",
            "2024-12-04 21:44:00.470 Thread 'MainThread': missing ScriptRunContext! This warning can be ignored when running in bare mode.\n",
            "WARNING:absl:Compiled the loaded model, but the compiled metrics have yet to be built. `model.compile_metrics` will be empty until you train or evaluate the model.\n",
            "2024-12-04 21:44:00.588 Thread 'MainThread': missing ScriptRunContext! This warning can be ignored when running in bare mode.\n",
            "2024-12-04 21:44:00.589 Thread 'MainThread': missing ScriptRunContext! This warning can be ignored when running in bare mode.\n",
            "2024-12-04 21:44:00.591 Thread 'MainThread': missing ScriptRunContext! This warning can be ignored when running in bare mode.\n",
            "2024-12-04 21:44:00.593 Thread 'MainThread': missing ScriptRunContext! This warning can be ignored when running in bare mode.\n",
            "2024-12-04 21:44:00.595 Thread 'MainThread': missing ScriptRunContext! This warning can be ignored when running in bare mode.\n",
            "2024-12-04 21:44:00.596 Thread 'MainThread': missing ScriptRunContext! This warning can be ignored when running in bare mode.\n",
            "2024-12-04 21:44:00.598 Thread 'MainThread': missing ScriptRunContext! This warning can be ignored when running in bare mode.\n",
            "2024-12-04 21:44:00.600 Thread 'MainThread': missing ScriptRunContext! This warning can be ignored when running in bare mode.\n",
            "2024-12-04 21:44:00.600 Thread 'MainThread': missing ScriptRunContext! This warning can be ignored when running in bare mode.\n",
            "2024-12-04 21:44:00.601 Thread 'MainThread': missing ScriptRunContext! This warning can be ignored when running in bare mode.\n",
            "2024-12-04 21:44:00.602 Thread 'MainThread': missing ScriptRunContext! This warning can be ignored when running in bare mode.\n"
          ]
        }
      ]
    },
    {
      "source": [
        "import streamlit\n",
        "import tensorflow\n",
        "import PIL\n",
        "\n",
        "print(\"Streamlit version:\", streamlit.__version__)\n",
        "print(\"TensorFlow version:\", tensorflow.__version__)\n",
        "print(\"Pillow version:\", PIL.__version__)"
      ],
      "cell_type": "code",
      "metadata": {
        "colab": {
          "base_uri": "https://localhost:8080/"
        },
        "id": "6wPPbXWetxxf",
        "outputId": "ea112b5c-6415-4958-ed00-0e86cf4b8cb5"
      },
      "execution_count": 32,
      "outputs": [
        {
          "output_type": "stream",
          "name": "stdout",
          "text": [
            "Streamlit version: 1.40.2\n",
            "TensorFlow version: 2.17.1\n",
            "Pillow version: 11.0.0\n"
          ]
        }
      ]
    }
  ]
}